{
 "cells": [
  {
   "cell_type": "code",
   "id": "initial_id",
   "metadata": {
    "collapsed": true,
    "ExecuteTime": {
     "end_time": "2024-12-02T09:14:17.925618Z",
     "start_time": "2024-12-02T09:14:17.921809Z"
    }
   },
   "source": [
    ""
   ],
   "outputs": [],
   "execution_count": null
  },
  {
   "metadata": {
    "ExecuteTime": {
     "end_time": "2024-12-02T09:55:43.978638Z",
     "start_time": "2024-12-02T09:51:01.015653Z"
    }
   },
   "cell_type": "code",
   "source": [
    "import os\n",
    "import numpy as np\n",
    "import pandas as pd\n",
    "from sklearn.preprocessing import LabelEncoder\n",
    "\n",
    "# 加载数据函数\n",
    "def load_data(frac=1.0):\n",
    "    \"\"\"\n",
    "    加载用户、样本、行为日志和广告特征数据，并对行为日志进行按比例随机采样。\n",
    "    \n",
    "    参数：\n",
    "    - frac: float, 采样比例，默认为 1.0（加载全部数据）\n",
    "    \n",
    "    返回：\n",
    "    - user: 用户数据\n",
    "    - sample: 样本数据\n",
    "    - user_behavior: 用户行为日志数据\n",
    "    - ad_feature: 广告特征数据\n",
    "    \"\"\"\n",
    "    root_path = \"G:/DataSets/Ali_Display_Ad_Click/original_data\"\n",
    "    \n",
    "    # 加载其他数据\n",
    "    sample = pd.read_csv(f'{root_path}/raw_sample.csv')\n",
    "    print(\"raw_sample读取完毕\")\n",
    "    ad_feature = pd.read_csv(f'{root_path}/ad_feature.csv')\n",
    "    print(\"ad_feature读取完毕\")\n",
    "    user = pd.read_csv(f\"{root_path}/user_profile.csv\")\n",
    "    print(\"user_profile读取完毕\")\n",
    "    \n",
    "    # 加载行为日志数据时进行采样\n",
    "    print(f\"行为日志按 {frac*100:.2f}% 比例采样加载...\")\n",
    "    user_behavior = pd.read_csv(\n",
    "        f'{root_path}/behavior_log.csv', \n",
    "        skiprows=lambda i: i > 0 and np.random.rand() > frac,  # 按随机数过滤\n",
    "    )\n",
    "    print(\"behavior_log加载完毕\")\n",
    "    \n",
    "    # 填充缺失值\n",
    "    ad_feature['brand'] = ad_feature['brand'].fillna(-1)\n",
    "    user['pvalue_level'] = user['pvalue_level'].fillna(-1)\n",
    "    \n",
    "    # 修正列名并处理缺失值\n",
    "    user = user.rename({'new_user_class_level ': 'new_user_class_level'}, axis=1)\n",
    "    user['new_user_class_level'] = user['new_user_class_level'].fillna(-1)\n",
    "    \n",
    "    return user, sample, user_behavior, ad_feature\n",
    "\n",
    "# 设置采样比例\n",
    "sampling_fraction = 0.0001\n",
    "\n",
    "# 加载数据\n",
    "user, sample, user_behavior, ad_feature = load_data(frac=sampling_fraction)\n",
    "\n",
    "# 查看加载的数据摘要\n",
    "print(\"用户数据：\", user.shape)\n",
    "print(\"样本数据：\", sample.shape)\n",
    "print(\"采样后的用户行为数据：\", user_behavior.shape)\n",
    "print(\"广告特征数据：\", ad_feature.shape)\n",
    "\n",
    "# 显示部分数据\n",
    "user.head()\n"
   ],
   "id": "a6727f5fecab1885",
   "outputs": [
    {
     "name": "stdout",
     "output_type": "stream",
     "text": [
      "raw_sample读取完毕\n",
      "ad_feature读取完毕\n",
      "user_profile读取完毕\n",
      "行为日志按 0.10% 比例采样加载...\n"
     ]
    },
    {
     "ename": "ParserError",
     "evalue": "Error tokenizing data. C error: no error message set",
     "output_type": "error",
     "traceback": [
      "\u001B[1;31m---------------------------------------------------------------------------\u001B[0m",
      "\u001B[1;31mParserError\u001B[0m                               Traceback (most recent call last)",
      "Cell \u001B[1;32mIn[5], line 53\u001B[0m\n\u001B[0;32m     50\u001B[0m sampling_fraction \u001B[38;5;241m=\u001B[39m \u001B[38;5;241m0.001\u001B[39m\n\u001B[0;32m     52\u001B[0m \u001B[38;5;66;03m# 加载数据\u001B[39;00m\n\u001B[1;32m---> 53\u001B[0m user, sample, user_behavior, ad_feature \u001B[38;5;241m=\u001B[39m \u001B[43mload_data\u001B[49m\u001B[43m(\u001B[49m\u001B[43mfrac\u001B[49m\u001B[38;5;241;43m=\u001B[39;49m\u001B[43msampling_fraction\u001B[49m\u001B[43m)\u001B[49m\n\u001B[0;32m     55\u001B[0m \u001B[38;5;66;03m# 查看加载的数据摘要\u001B[39;00m\n\u001B[0;32m     56\u001B[0m \u001B[38;5;28mprint\u001B[39m(\u001B[38;5;124m\"\u001B[39m\u001B[38;5;124m用户数据：\u001B[39m\u001B[38;5;124m\"\u001B[39m, user\u001B[38;5;241m.\u001B[39mshape)\n",
      "Cell \u001B[1;32mIn[5], line 33\u001B[0m, in \u001B[0;36mload_data\u001B[1;34m(frac)\u001B[0m\n\u001B[0;32m     31\u001B[0m behavior_file_path \u001B[38;5;241m=\u001B[39m \u001B[38;5;124mf\u001B[39m\u001B[38;5;124m'\u001B[39m\u001B[38;5;132;01m{\u001B[39;00mroot_path\u001B[38;5;132;01m}\u001B[39;00m\u001B[38;5;124m/behavior_log.csv\u001B[39m\u001B[38;5;124m'\u001B[39m\n\u001B[0;32m     32\u001B[0m \u001B[38;5;28mprint\u001B[39m(\u001B[38;5;124mf\u001B[39m\u001B[38;5;124m\"\u001B[39m\u001B[38;5;124m行为日志按 \u001B[39m\u001B[38;5;132;01m{\u001B[39;00mfrac\u001B[38;5;241m*\u001B[39m\u001B[38;5;241m100\u001B[39m\u001B[38;5;132;01m:\u001B[39;00m\u001B[38;5;124m.2f\u001B[39m\u001B[38;5;132;01m}\u001B[39;00m\u001B[38;5;124m% 比例采样加载...\u001B[39m\u001B[38;5;124m\"\u001B[39m)\n\u001B[1;32m---> 33\u001B[0m user_behavior \u001B[38;5;241m=\u001B[39m \u001B[43mpd\u001B[49m\u001B[38;5;241;43m.\u001B[39;49m\u001B[43mread_csv\u001B[49m\u001B[43m(\u001B[49m\n\u001B[0;32m     34\u001B[0m \u001B[43m    \u001B[49m\u001B[43mbehavior_file_path\u001B[49m\u001B[43m,\u001B[49m\u001B[43m \u001B[49m\n\u001B[0;32m     35\u001B[0m \u001B[43m    \u001B[49m\u001B[43mskiprows\u001B[49m\u001B[38;5;241;43m=\u001B[39;49m\u001B[38;5;28;43;01mlambda\u001B[39;49;00m\u001B[43m \u001B[49m\u001B[43mi\u001B[49m\u001B[43m:\u001B[49m\u001B[43m \u001B[49m\u001B[43mi\u001B[49m\u001B[43m \u001B[49m\u001B[38;5;241;43m>\u001B[39;49m\u001B[43m \u001B[49m\u001B[38;5;241;43m0\u001B[39;49m\u001B[43m \u001B[49m\u001B[38;5;129;43;01mand\u001B[39;49;00m\u001B[43m \u001B[49m\u001B[43mnp\u001B[49m\u001B[38;5;241;43m.\u001B[39;49m\u001B[43mrandom\u001B[49m\u001B[38;5;241;43m.\u001B[39;49m\u001B[43mrand\u001B[49m\u001B[43m(\u001B[49m\u001B[43m)\u001B[49m\u001B[43m \u001B[49m\u001B[38;5;241;43m>\u001B[39;49m\u001B[43m \u001B[49m\u001B[43mfrac\u001B[49m\u001B[43m,\u001B[49m\u001B[43m  \u001B[49m\u001B[38;5;66;43;03m# 按随机数过滤\u001B[39;49;00m\n\u001B[0;32m     36\u001B[0m \u001B[43m\u001B[49m\u001B[43m)\u001B[49m\n\u001B[0;32m     37\u001B[0m \u001B[38;5;28mprint\u001B[39m(\u001B[38;5;124m\"\u001B[39m\u001B[38;5;124mbehavior_log加载完毕\u001B[39m\u001B[38;5;124m\"\u001B[39m)\n\u001B[0;32m     39\u001B[0m \u001B[38;5;66;03m# 填充缺失值\u001B[39;00m\n",
      "File \u001B[1;32mE:\\Py-Project\\DataScience\\venv\\Lib\\site-packages\\pandas\\io\\parsers\\readers.py:912\u001B[0m, in \u001B[0;36mread_csv\u001B[1;34m(filepath_or_buffer, sep, delimiter, header, names, index_col, usecols, dtype, engine, converters, true_values, false_values, skipinitialspace, skiprows, skipfooter, nrows, na_values, keep_default_na, na_filter, verbose, skip_blank_lines, parse_dates, infer_datetime_format, keep_date_col, date_parser, date_format, dayfirst, cache_dates, iterator, chunksize, compression, thousands, decimal, lineterminator, quotechar, quoting, doublequote, escapechar, comment, encoding, encoding_errors, dialect, on_bad_lines, delim_whitespace, low_memory, memory_map, float_precision, storage_options, dtype_backend)\u001B[0m\n\u001B[0;32m    899\u001B[0m kwds_defaults \u001B[38;5;241m=\u001B[39m _refine_defaults_read(\n\u001B[0;32m    900\u001B[0m     dialect,\n\u001B[0;32m    901\u001B[0m     delimiter,\n\u001B[1;32m   (...)\u001B[0m\n\u001B[0;32m    908\u001B[0m     dtype_backend\u001B[38;5;241m=\u001B[39mdtype_backend,\n\u001B[0;32m    909\u001B[0m )\n\u001B[0;32m    910\u001B[0m kwds\u001B[38;5;241m.\u001B[39mupdate(kwds_defaults)\n\u001B[1;32m--> 912\u001B[0m \u001B[38;5;28;01mreturn\u001B[39;00m \u001B[43m_read\u001B[49m\u001B[43m(\u001B[49m\u001B[43mfilepath_or_buffer\u001B[49m\u001B[43m,\u001B[49m\u001B[43m \u001B[49m\u001B[43mkwds\u001B[49m\u001B[43m)\u001B[49m\n",
      "File \u001B[1;32mE:\\Py-Project\\DataScience\\venv\\Lib\\site-packages\\pandas\\io\\parsers\\readers.py:583\u001B[0m, in \u001B[0;36m_read\u001B[1;34m(filepath_or_buffer, kwds)\u001B[0m\n\u001B[0;32m    580\u001B[0m     \u001B[38;5;28;01mreturn\u001B[39;00m parser\n\u001B[0;32m    582\u001B[0m \u001B[38;5;28;01mwith\u001B[39;00m parser:\n\u001B[1;32m--> 583\u001B[0m     \u001B[38;5;28;01mreturn\u001B[39;00m \u001B[43mparser\u001B[49m\u001B[38;5;241;43m.\u001B[39;49m\u001B[43mread\u001B[49m\u001B[43m(\u001B[49m\u001B[43mnrows\u001B[49m\u001B[43m)\u001B[49m\n",
      "File \u001B[1;32mE:\\Py-Project\\DataScience\\venv\\Lib\\site-packages\\pandas\\io\\parsers\\readers.py:1704\u001B[0m, in \u001B[0;36mTextFileReader.read\u001B[1;34m(self, nrows)\u001B[0m\n\u001B[0;32m   1697\u001B[0m nrows \u001B[38;5;241m=\u001B[39m validate_integer(\u001B[38;5;124m\"\u001B[39m\u001B[38;5;124mnrows\u001B[39m\u001B[38;5;124m\"\u001B[39m, nrows)\n\u001B[0;32m   1698\u001B[0m \u001B[38;5;28;01mtry\u001B[39;00m:\n\u001B[0;32m   1699\u001B[0m     \u001B[38;5;66;03m# error: \"ParserBase\" has no attribute \"read\"\u001B[39;00m\n\u001B[0;32m   1700\u001B[0m     (\n\u001B[0;32m   1701\u001B[0m         index,\n\u001B[0;32m   1702\u001B[0m         columns,\n\u001B[0;32m   1703\u001B[0m         col_dict,\n\u001B[1;32m-> 1704\u001B[0m     ) \u001B[38;5;241m=\u001B[39m \u001B[38;5;28;43mself\u001B[39;49m\u001B[38;5;241;43m.\u001B[39;49m\u001B[43m_engine\u001B[49m\u001B[38;5;241;43m.\u001B[39;49m\u001B[43mread\u001B[49m\u001B[43m(\u001B[49m\u001B[43m  \u001B[49m\u001B[38;5;66;43;03m# type: ignore[attr-defined]\u001B[39;49;00m\n\u001B[0;32m   1705\u001B[0m \u001B[43m        \u001B[49m\u001B[43mnrows\u001B[49m\n\u001B[0;32m   1706\u001B[0m \u001B[43m    \u001B[49m\u001B[43m)\u001B[49m\n\u001B[0;32m   1707\u001B[0m \u001B[38;5;28;01mexcept\u001B[39;00m \u001B[38;5;167;01mException\u001B[39;00m:\n\u001B[0;32m   1708\u001B[0m     \u001B[38;5;28mself\u001B[39m\u001B[38;5;241m.\u001B[39mclose()\n",
      "File \u001B[1;32mE:\\Py-Project\\DataScience\\venv\\Lib\\site-packages\\pandas\\io\\parsers\\c_parser_wrapper.py:234\u001B[0m, in \u001B[0;36mCParserWrapper.read\u001B[1;34m(self, nrows)\u001B[0m\n\u001B[0;32m    232\u001B[0m \u001B[38;5;28;01mtry\u001B[39;00m:\n\u001B[0;32m    233\u001B[0m     \u001B[38;5;28;01mif\u001B[39;00m \u001B[38;5;28mself\u001B[39m\u001B[38;5;241m.\u001B[39mlow_memory:\n\u001B[1;32m--> 234\u001B[0m         chunks \u001B[38;5;241m=\u001B[39m \u001B[38;5;28mself\u001B[39m\u001B[38;5;241m.\u001B[39m_reader\u001B[38;5;241m.\u001B[39mread_low_memory(nrows)\n\u001B[0;32m    235\u001B[0m         \u001B[38;5;66;03m# destructive to chunks\u001B[39;00m\n\u001B[0;32m    236\u001B[0m         data \u001B[38;5;241m=\u001B[39m _concatenate_chunks(chunks)\n",
      "File \u001B[1;32mE:\\Py-Project\\DataScience\\venv\\Lib\\site-packages\\pandas\\_libs\\parsers.pyx:814\u001B[0m, in \u001B[0;36mpandas._libs.parsers.TextReader.read_low_memory\u001B[1;34m()\u001B[0m\n",
      "File \u001B[1;32mE:\\Py-Project\\DataScience\\venv\\Lib\\site-packages\\pandas\\_libs\\parsers.pyx:875\u001B[0m, in \u001B[0;36mpandas._libs.parsers.TextReader._read_rows\u001B[1;34m()\u001B[0m\n",
      "File \u001B[1;32mE:\\Py-Project\\DataScience\\venv\\Lib\\site-packages\\pandas\\_libs\\parsers.pyx:850\u001B[0m, in \u001B[0;36mpandas._libs.parsers.TextReader._tokenize_rows\u001B[1;34m()\u001B[0m\n",
      "File \u001B[1;32mE:\\Py-Project\\DataScience\\venv\\Lib\\site-packages\\pandas\\_libs\\parsers.pyx:861\u001B[0m, in \u001B[0;36mpandas._libs.parsers.TextReader._check_tokenize_status\u001B[1;34m()\u001B[0m\n",
      "File \u001B[1;32mE:\\Py-Project\\DataScience\\venv\\Lib\\site-packages\\pandas\\_libs\\parsers.pyx:2029\u001B[0m, in \u001B[0;36mpandas._libs.parsers.raise_parser_error\u001B[1;34m()\u001B[0m\n",
      "\u001B[1;31mParserError\u001B[0m: Error tokenizing data. C error: no error message set"
     ]
    }
   ],
   "execution_count": 5
  },
  {
   "metadata": {},
   "cell_type": "code",
   "outputs": [],
   "execution_count": null,
   "source": [
    "# 数据预处理函数\n",
    "def data_preprocess(user_behavior, ad_feature):\n",
    "    \"\"\"\n",
    "    对类别特征进行编码并清洗行为数据中的无效时间戳。\n",
    "    \"\"\"\n",
    "    # 初始化类别编码器\n",
    "    cate_lbe = LabelEncoder()\n",
    "    cate_ids = np.concatenate((ad_feature['cate_id'].unique(), user_behavior['cate'].unique()))\n",
    "    cate_lbe.fit(cate_ids)\n",
    "    \n",
    "    # 对类别特征进行编码\n",
    "    ad_feature['cate_id'] = cate_lbe.transform(ad_feature['cate_id']) + 1\n",
    "    user_behavior['cate'] = cate_lbe.transform(user_behavior['cate']) + 1\n",
    "    \n",
    "    # 品牌特征编码\n",
    "    brand_lbe = LabelEncoder()\n",
    "    brand_ids = np.concatenate((ad_feature['brand'].unique(), user_behavior['brand'].unique()))\n",
    "    brand_lbe.fit(brand_ids)\n",
    "    ad_feature['brand'] = brand_lbe.transform(ad_feature['brand']) + 1\n",
    "    user_behavior['brand'] = brand_lbe.transform(user_behavior['brand']) + 1\n",
    "    \n",
    "    # 移除时间戳为无效值的行为记录\n",
    "    user_behavior = user_behavior[user_behavior['time_stamp'] > 0]\n",
    "    \n",
    "    return user_behavior, ad_feature\n",
    "\n",
    "# 数据预处理\n",
    "user_behavior, ad_feature = data_preprocess(user_behavior, ad_feature)\n",
    "\n",
    "# 查看预处理后的结果\n",
    "print(\"用户行为数据：\", user_behavior.shape)\n",
    "print(\"广告特征数据：\", ad_feature.shape)\n",
    "user_behavior.head()\n"
   ],
   "id": "b4745aa085180e7c"
  },
  {
   "metadata": {},
   "cell_type": "code",
   "outputs": [],
   "execution_count": null,
   "source": [
    "# 抽样函数\n",
    "def data_sample(frac, user, sample, user_behavior, ad_feature):\n",
    "    \"\"\"\n",
    "    按指定比例对用户进行抽样，并筛选与抽样用户相关的行为和样本数据。\n",
    "    \"\"\"\n",
    "    # 抽样用户\n",
    "    sel_user = user.sample(frac=frac, random_state=1024).reset_index(drop=True)\n",
    "    sel_user_ids = sel_user.userid.unique()\n",
    "    \n",
    "    # 筛选相关数据\n",
    "    sel_sample = sample[sample['user'].isin(sel_user_ids)].reset_index(drop=True)\n",
    "    sel_user_behavior = user_behavior[user_behavior['userid'].isin(sel_user_ids)].reset_index(drop=True)\n",
    "    sel_ad_feature = ad_feature.copy()  # 广告特征直接复制即可\n",
    "    \n",
    "    return sel_user, sel_sample, sel_user_behavior, sel_ad_feature\n",
    "\n",
    "# 设置抽样比例\n",
    "frac = 0.001\n",
    "\n",
    "# 进行数据抽样\n",
    "sel_user, sel_sample, sel_user_behavior, sel_ad_feature = data_sample(\n",
    "    frac, user, sample, user_behavior, ad_feature)\n",
    "\n",
    "# 查看抽样后的结果\n",
    "print(\"抽样后的用户数据：\", sel_user.shape)\n",
    "print(\"抽样后的样本数据：\", sel_sample.shape)\n",
    "print(\"抽样后的用户行为数据：\", sel_user_behavior.shape)\n"
   ],
   "id": "d7e5abb2994b9577"
  },
  {
   "metadata": {},
   "cell_type": "code",
   "outputs": [],
   "execution_count": null,
   "source": [
    "# 数据保存函数\n",
    "def save_data(sel_user, sel_sample, sel_user_behavior, sel_ad_feature):\n",
    "    \"\"\"\n",
    "    将抽样和预处理后的数据保存为二进制文件格式。\n",
    "    \"\"\"\n",
    "    exit(1)\n",
    "    os.makedirs('data1/final_data', exist_ok=True)  # 确保输出目录存在\n",
    "    sel_user.to_pickle('data1/final_data/user_data.pkl')\n",
    "    sel_sample.to_pickle('data1/final_data/sample_data.pkl')\n",
    "    sel_user_behavior.to_pickle('data1/final_data/user_behavior_data.pkl')\n",
    "    sel_ad_feature.to_pickle('data1/final_data/ad_data.pkl')\n",
    "\n",
    "# 保存数据\n",
    "save_data(sel_user, sel_sample, sel_user_behavior, sel_ad_feature)\n",
    "\n",
    "print(\"数据已保存到 data1/final_data 文件夹中。\")\n"
   ],
   "id": "2b34e7ddae69521e"
  }
 ],
 "metadata": {
  "kernelspec": {
   "display_name": "Python 3",
   "language": "python",
   "name": "python3"
  },
  "language_info": {
   "codemirror_mode": {
    "name": "ipython",
    "version": 2
   },
   "file_extension": ".py",
   "mimetype": "text/x-python",
   "name": "python",
   "nbconvert_exporter": "python",
   "pygments_lexer": "ipython2",
   "version": "2.7.6"
  }
 },
 "nbformat": 4,
 "nbformat_minor": 5
}
