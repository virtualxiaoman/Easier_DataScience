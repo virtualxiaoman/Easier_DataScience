{
 "cells": [
  {
   "metadata": {},
   "cell_type": "markdown",
   "source": "# 数据预处理",
   "id": "6bf218350e45d51b"
  },
  {
   "metadata": {
    "ExecuteTime": {
     "end_time": "2025-01-14T14:12:07.149278Z",
     "start_time": "2025-01-14T14:12:07.076859Z"
    }
   },
   "cell_type": "code",
   "source": [
    "import pandas as pd\n",
    "\n",
    "test = pd.read_csv(\"test.csv\")\n",
    "train = pd.read_csv(\"train.csv\")\n",
    "\n",
    "data = pd.concat([train, test], axis=0, sort=False)\n",
    "missing_cols = [c for c in data if data[c].isna().mean() * 100 > 50]  # 删除缺失值比例大于50%的特征列\n",
    "data = data.drop(missing_cols, axis=1)\n",
    "\n",
    "object_df = data.select_dtypes(include=['object'])\n",
    "numerical_df = data.select_dtypes(exclude=['object'])\n",
    "object_df = object_df.fillna('unknown')  # 用unknown填充\n",
    "missing_cols = [c for c in numerical_df if numerical_df[c].isna().sum() > 0]\n",
    "for c in missing_cols:\n",
    "    numerical_df[c] = numerical_df[c].fillna(numerical_df[c].median())  # 用中位数填充"
   ],
   "id": "fec50f0f97e9095",
   "outputs": [],
   "execution_count": 116
  },
  {
   "metadata": {
    "ExecuteTime": {
     "end_time": "2025-01-14T14:12:07.160044Z",
     "start_time": "2025-01-14T14:12:07.151793Z"
    }
   },
   "cell_type": "code",
   "source": "object_df = object_df.drop(['Heating', 'RoofMatl', 'Condition2', 'Street', 'Utilities'], axis=1)  # 删除类别比不均衡的特征（对分数没影响）",
   "id": "6189a6a261dc8d29",
   "outputs": [],
   "execution_count": 117
  },
  {
   "metadata": {
    "ExecuteTime": {
     "end_time": "2025-01-14T14:12:07.170420Z",
     "start_time": "2025-01-14T14:12:07.162015Z"
    }
   },
   "cell_type": "code",
   "source": [
    "numerical_df.loc[\n",
    "    numerical_df['YrSold'] < numerical_df['YearBuilt'], 'YrSold'] = 2009  # 将销售日期小于建造日期的数据的销售日期改为2009(销售日期的最大值)\n",
    "numerical_df['Age_House'] = (numerical_df['YrSold'] - numerical_df['YearBuilt'])  # 计算房屋的年龄\n",
    "\n",
    "numerical_df['TotalBsmtBath'] = numerical_df['BsmtFullBath'] + numerical_df['BsmtHalfBath'] * 0.5  # 对浴池求和得到地下室的总浴室数\n",
    "numerical_df['TotalBath'] = numerical_df['FullBath'] + numerical_df['HalfBath'] * 0.5  # 对浴池求和得到地上的总浴室数\n",
    "numerical_df['TotalSA'] = numerical_df['TotalBsmtSF'] + numerical_df['1stFlrSF'] + numerical_df['2ndFlrSF']  # 计算总面积\n",
    "# numerical_df = numerical_df.drop(['YrSold', 'YearBuilt', 'BsmtFullBath', 'BsmtHalfBath', 'FullBath', 'HalfBath',\n",
    "#                                     'TotalBsmtSF', '1stFlrSF', '2ndFlrSF'], axis=1)  # 删除不需要的特征，删了分数会低一些\n",
    "\n"
   ],
   "id": "1745a2c8622b5e06",
   "outputs": [],
   "execution_count": 118
  },
  {
   "metadata": {
    "ExecuteTime": {
     "end_time": "2025-01-14T14:12:07.205994Z",
     "start_time": "2025-01-14T14:12:07.173404Z"
    }
   },
   "cell_type": "code",
   "source": [
    "bin_map = {'TA': 2, 'Gd': 3, 'Fa': 1, 'Ex': 4, 'Po': 1, 'None': 0,\n",
    "           'Y': 1, 'N': 0, 'Reg': 3, 'IR1': 2, 'IR2': 1,\n",
    "           'IR3': 0, \"None\": 0, \"No\": 2, \"Mn\": 2,\n",
    "           \"Av\": 3, \"Gd\": 4, \"Unf\": 1, \"LwQ\": 2,\n",
    "           \"Rec\": 3, \"BLQ\": 4, \"ALQ\": 5, \"GLQ\": 6}\n",
    "object_df['ExterQual'] = object_df['ExterQual'].map(bin_map)\n",
    "object_df['ExterCond'] = object_df['ExterCond'].map(bin_map)\n",
    "object_df['BsmtCond'] = object_df['BsmtCond'].map(bin_map)\n",
    "object_df['BsmtQual'] = object_df['BsmtQual'].map(bin_map)\n",
    "object_df['HeatingQC'] = object_df['HeatingQC'].map(bin_map)\n",
    "object_df['KitchenQual'] = object_df['KitchenQual'].map(bin_map)\n",
    "object_df['FireplaceQu'] = object_df['FireplaceQu'].map(bin_map)\n",
    "object_df['GarageQual'] = object_df['GarageQual'].map(bin_map)\n",
    "object_df['GarageCond'] = object_df['GarageCond'].map(bin_map)\n",
    "object_df['CentralAir'] = object_df['CentralAir'].map(bin_map)\n",
    "object_df['LotShape'] = object_df['LotShape'].map(bin_map)\n",
    "object_df['BsmtExposure'] = object_df['BsmtExposure'].map(bin_map)\n",
    "object_df['BsmtFinType1'] = object_df['BsmtFinType1'].map(bin_map)\n",
    "object_df['BsmtFinType2'] = object_df['BsmtFinType2'].map(bin_map)\n",
    "\n",
    "PavedDrive = {\"N\": 0, \"P\": 1, \"Y\": 2}\n",
    "object_df['PavedDrive'] = object_df['PavedDrive'].map(PavedDrive)\n",
    "# 选择剩余的object特征\n",
    "rest_object_columns = object_df.select_dtypes(include=['object'])\n",
    "# 进行one-hot编码\n",
    "object_df = pd.get_dummies(object_df, columns=rest_object_columns.columns)"
   ],
   "id": "1ddae597b97973ab",
   "outputs": [],
   "execution_count": 119
  },
  {
   "metadata": {
    "ExecuteTime": {
     "end_time": "2025-01-14T14:12:07.256184Z",
     "start_time": "2025-01-14T14:12:07.208679Z"
    }
   },
   "cell_type": "code",
   "source": [
    "data = pd.concat([object_df, numerical_df], axis=1, sort=False)  # 将处理后的数据合并\n",
    "print(data.head())\n",
    "\n",
    "# # 标准化\n",
    "# from sklearn.preprocessing import StandardScaler\n",
    "# \n",
    "# scaler = StandardScaler()\n",
    "# data = pd.DataFrame(scaler.fit_transform(data), columns=data.columns)  # 分数略微提高\n"
   ],
   "id": "d3a56a691b4ad681",
   "outputs": [
    {
     "name": "stdout",
     "output_type": "stream",
     "text": [
      "   LotShape  ExterQual  ExterCond  BsmtQual  BsmtCond  BsmtExposure  \\\n",
      "0         3          4          2       4.0       2.0           2.0   \n",
      "1         3          2          2       4.0       2.0           4.0   \n",
      "2         2          4          2       4.0       2.0           2.0   \n",
      "3         2          2          2       2.0       4.0           2.0   \n",
      "4         2          4          2       4.0       2.0           3.0   \n",
      "\n",
      "   BsmtFinType1  BsmtFinType2  HeatingQC  CentralAir  ...  ScreenPorch  \\\n",
      "0           6.0           1.0          4           1  ...            0   \n",
      "1           5.0           1.0          4           1  ...            0   \n",
      "2           6.0           1.0          4           1  ...            0   \n",
      "3           5.0           1.0          4           1  ...            0   \n",
      "4           6.0           1.0          4           1  ...            0   \n",
      "\n",
      "   PoolArea  MiscVal  MoSold  YrSold  SalePrice  Age_House  TotalBsmtBath  \\\n",
      "0         0        0       2    2008   208500.0          5            1.0   \n",
      "1         0        0       5    2007   181500.0         31            0.5   \n",
      "2         0        0       9    2008   223500.0          7            1.0   \n",
      "3         0        0       2    2006   140000.0         91            1.0   \n",
      "4         0        0      12    2008   250000.0          8            1.0   \n",
      "\n",
      "   TotalBath  TotalSA  \n",
      "0        2.5   2566.0  \n",
      "1        2.0   2524.0  \n",
      "2        2.5   2706.0  \n",
      "3        1.0   2473.0  \n",
      "4        2.5   3343.0  \n",
      "\n",
      "[5 rows x 208 columns]\n"
     ]
    }
   ],
   "execution_count": 120
  },
  {
   "metadata": {
    "ExecuteTime": {
     "end_time": "2025-01-14T14:12:07.856600Z",
     "start_time": "2025-01-14T14:12:07.259176Z"
    }
   },
   "cell_type": "code",
   "source": [
    "def correlation(data, threshold):\n",
    "    col_corr = set()\n",
    "    corr_matrix = data.corr()\n",
    "    for i in range(len(corr_matrix.columns)):\n",
    "        for j in range(i):\n",
    "            if abs(corr_matrix.iloc[i, j]) > threshold:  # 相似性分数与阈值对比\n",
    "                colname = corr_matrix.columns[i]  # 获取列名\n",
    "                col_corr.add(colname)\n",
    "    return col_corr\n",
    "\n",
    "\n",
    "all_cols = [c for c in data.columns if c not in ['SalePrice']]\n",
    "corr_features = correlation(data[all_cols], 0.9)  # 选择相关性大于0.9的特征\n",
    "print(corr_features)\n",
    "# data = data.drop(corr_features, axis=1)  # 删除相关性大于0.9的特征(保留一个，减少特征冗余)。不做分还高一些\n"
   ],
   "id": "ed4fbda3a3f98641",
   "outputs": [
    {
     "name": "stdout",
     "output_type": "stream",
     "text": [
      "{'GarageFinish_unknown', 'LandSlope_Mod', 'Age_House', 'Exterior2nd_unknown', 'TotalBsmtBath', 'SaleCondition_Partial', 'RoofStyle_Hip', 'TotalBath', 'Exterior2nd_CmentBd', 'Exterior2nd_MetalSd', 'Exterior2nd_VinylSd'}\n"
     ]
    }
   ],
   "execution_count": 121
  },
  {
   "metadata": {},
   "cell_type": "markdown",
   "source": "# 使用与D_HP_1一致的LightGBM模型进行训练",
   "id": "fc59fec596a8212b"
  },
  {
   "metadata": {
    "ExecuteTime": {
     "end_time": "2025-01-14T14:12:11.987809Z",
     "start_time": "2025-01-14T14:12:07.863686Z"
    }
   },
   "cell_type": "code",
   "source": [
    "import numpy as np\n",
    "import pandas as pd\n",
    "import lightgbm as lgb\n",
    "from sklearn.model_selection import KFold\n",
    "from sklearn.metrics import mean_squared_error\n",
    "\n",
    "# 切分数据\n",
    "X_train = data[:train.shape[0]]\n",
    "X_test = data[train.shape[0]:]\n",
    "y_train = train['SalePrice']\n",
    "\n",
    "# 设置LightGBM模型参数\n",
    "params = {\n",
    "    'num_leaves': 63,\n",
    "    'min_child_samples': 50,\n",
    "    'objective': 'regression',\n",
    "    'learning_rate': 0.01,\n",
    "    'boosting_type': 'gbdt',\n",
    "    'metric': 'rmse',\n",
    "    'verbose': -1,\n",
    "}\n",
    "\n",
    "# KFold交叉验证设置\n",
    "folds = KFold(n_splits=5, shuffle=True, random_state=42)\n",
    "\n",
    "oof_preds = np.zeros(X_train.shape[0])  # 存储每一折的验证集预测值，oof: out-of-fold（每个训练样本的验证集预测值）0\n",
    "test_preds = np.zeros(X_test.shape[0])  # 存储测试集的平均预测值（所有折叠的预测结果）\n",
    "\n",
    "# 每次分割返回训练集索引 trn_idx 和验证集索引 val_idx\n",
    "for trn_idx, val_idx in folds.split(X_train, y_train):\n",
    "    trn_df, trn_label = X_train.iloc[trn_idx], y_train.iloc[trn_idx]\n",
    "    val_df, val_label = X_train.iloc[val_idx], y_train.iloc[val_idx]\n",
    "\n",
    "    # 创建LightGBM数据集\n",
    "    dtrn = lgb.Dataset(trn_df, label=trn_label)\n",
    "    dval = lgb.Dataset(val_df, label=val_label)\n",
    "\n",
    "    # 训练模型\n",
    "    bst = lgb.train(params, dtrn,\n",
    "                    num_boost_round=1000,\n",
    "                    valid_sets=[dtrn, dval])\n",
    "\n",
    "    # 预测。num_iteration=bst.best_iteration 是告诉LightGBM在训练过程中使用表现最好的迭代次数（通过验证集上的评估确定）\n",
    "    oof_preds[val_idx] = bst.predict(val_df, num_iteration=bst.best_iteration)\n",
    "    test_preds += bst.predict(X_test, num_iteration=bst.best_iteration) / folds.n_splits  # 这里folds.n_splits=5\n",
    "    print(f\"Fold RMSE: {np.sqrt(mean_squared_error(val_label, oof_preds[val_idx]))}\")\n",
    "\n",
    "# 输出训练集上的RMSE评分\n",
    "rmse = np.sqrt(mean_squared_error(y_train, oof_preds))\n",
    "print(f'Overall RMSE on training data: {rmse:.4f}')\n",
    "\n",
    "# 生成Kaggle提交文件\n",
    "submission = pd.DataFrame({\n",
    "    'Id': test['Id'],  # 保持测试集的ID列\n",
    "    'SalePrice': test_preds  # 预测的结果列\n",
    "})\n",
    "submission.to_csv(\"output/data_process/submission.csv\", index=False)  # 保存为csv文件\n"
   ],
   "id": "1c5f51fdce320cef",
   "outputs": [
    {
     "name": "stdout",
     "output_type": "stream",
     "text": [
      "Fold RMSE: 22764.18232796425\n",
      "Fold RMSE: 19997.184765044498\n",
      "Fold RMSE: 13363.179243128678\n",
      "Fold RMSE: 13230.688058652397\n",
      "Fold RMSE: 11912.784783713896\n",
      "Overall RMSE on training data: 16814.4908\n"
     ]
    }
   ],
   "execution_count": 122
  },
  {
   "metadata": {
    "ExecuteTime": {
     "end_time": "2025-01-14T14:12:11.994299Z",
     "start_time": "2025-01-14T14:12:11.991307Z"
    }
   },
   "cell_type": "code",
   "source": "",
   "id": "1c468add71f1a76c",
   "outputs": [],
   "execution_count": 122
  }
 ],
 "metadata": {
  "kernelspec": {
   "display_name": "Python 3",
   "language": "python",
   "name": "python3"
  },
  "language_info": {
   "codemirror_mode": {
    "name": "ipython",
    "version": 2
   },
   "file_extension": ".py",
   "mimetype": "text/x-python",
   "name": "python",
   "nbconvert_exporter": "python",
   "pygments_lexer": "ipython2",
   "version": "2.7.6"
  }
 },
 "nbformat": 4,
 "nbformat_minor": 5
}
